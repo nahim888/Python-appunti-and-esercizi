{
  "nbformat": 4,
  "nbformat_minor": 0,
  "metadata": {
    "colab": {
      "name": "esercizio2.ipynb",
      "provenance": []
    },
    "kernelspec": {
      "name": "python3",
      "display_name": "Python 3"
    },
    "language_info": {
      "name": "python"
    }
  },
  "cells": [
    {
      "cell_type": "markdown",
      "metadata": {
        "id": "Emqq9ZfGElLn"
      },
      "source": [
        "link GitHub: https://github.com/nahim888/Python-appunti-and-esercizi"
      ]
    },
    {
      "cell_type": "markdown",
      "metadata": {
        "id": "yo-OUQLutxZD"
      },
      "source": [
        "Scrivere un programma che crei una lista contenente i nomi dei capoluoghi delle regioni italiane e\n",
        "che visualizzi la lista. Chiamare la lista capoluoghiRegione\n"
      ]
    },
    {
      "cell_type": "code",
      "metadata": {
        "colab": {
          "base_uri": "https://localhost:8080/"
        },
        "id": "9898M7reqSXL",
        "outputId": "50eb650f-64b2-4b88-a89e-8beef53732d2"
      },
      "source": [
        "capoluoghiRegione=[\"L'Aquila\", \"Potenza\", \"Catanzaro\", \"Napoli\", \"Bologna\", \"Trieste\", \"Roma\", \"Genova\", \"Milano\", \"Ancona\", \"Campobasso\", \"Torino\", \"Bari\", \"Cagliari\", \"Palermo\", \"Firenze\", \"Trento\", \"Perugia\", \"Aosta\", \"Venezia\"]\n",
        "print(capoluoghiRegione)"
      ],
      "execution_count": 89,
      "outputs": [
        {
          "output_type": "stream",
          "name": "stdout",
          "text": [
            "[\"L'Aquila\", 'Potenza', 'Catanzaro', 'Napoli', 'Bologna', 'Trieste', 'Roma', 'Genova', 'Milano', 'Ancona', 'Campobasso', 'Torino', 'Bari', 'Cagliari', 'Palermo', 'Firenze', 'Trento', 'Perugia', 'Aosta', 'Venezia']\n"
          ]
        }
      ]
    },
    {
      "cell_type": "markdown",
      "metadata": {
        "id": "TYDjweU8t295"
      },
      "source": [
        "Scrivere un programma che visualizzi i primi 6 capoluoghi di regione presenti in\n",
        "capoluoghiRegione"
      ]
    },
    {
      "cell_type": "code",
      "metadata": {
        "colab": {
          "base_uri": "https://localhost:8080/"
        },
        "id": "biXVGjTftw-x",
        "outputId": "7ee9e5a7-9bdb-4b60-9c49-b2ba155b5299"
      },
      "source": [
        "capoluoghiRegione[:6]"
      ],
      "execution_count": 90,
      "outputs": [
        {
          "output_type": "execute_result",
          "data": {
            "text/plain": [
              "[\"L'Aquila\", 'Potenza', 'Catanzaro', 'Napoli', 'Bologna', 'Trieste']"
            ]
          },
          "metadata": {},
          "execution_count": 90
        }
      ]
    },
    {
      "cell_type": "markdown",
      "metadata": {
        "id": "cwHt9yl0uB2E"
      },
      "source": [
        "Scrivere un programma che visualizzi gli ultimi 6 capoluoghi di regione presenti in\n",
        "capoluoghiRegione"
      ]
    },
    {
      "cell_type": "code",
      "metadata": {
        "colab": {
          "base_uri": "https://localhost:8080/"
        },
        "id": "abgHyeZQuCRY",
        "outputId": "213ceebe-136d-4cb3-c6f6-8ea4a0174ecb"
      },
      "source": [
        "capoluoghiRegione[-6:]"
      ],
      "execution_count": 91,
      "outputs": [
        {
          "output_type": "execute_result",
          "data": {
            "text/plain": [
              "['Palermo', 'Firenze', 'Trento', 'Perugia', 'Aosta', 'Venezia']"
            ]
          },
          "metadata": {},
          "execution_count": 91
        }
      ]
    },
    {
      "cell_type": "markdown",
      "metadata": {
        "id": "eQ60CWPCutfG"
      },
      "source": [
        "Scrivere un programma che visualizzi i 6 capoluoghi di regione presenti nella parte centrale di\n",
        "capoluoghiRegione"
      ]
    },
    {
      "cell_type": "code",
      "metadata": {
        "colab": {
          "base_uri": "https://localhost:8080/"
        },
        "id": "SezV5MAduvsV",
        "outputId": "270c44b6-2781-4bdb-beaf-7c4a3e98f5a6"
      },
      "source": [
        "capoluoghiRegione[7:13]"
      ],
      "execution_count": 92,
      "outputs": [
        {
          "output_type": "execute_result",
          "data": {
            "text/plain": [
              "['Genova', 'Milano', 'Ancona', 'Campobasso', 'Torino', 'Bari']"
            ]
          },
          "metadata": {},
          "execution_count": 92
        }
      ]
    },
    {
      "cell_type": "markdown",
      "metadata": {
        "id": "o-LjjqaBu6w3"
      },
      "source": [
        "Scrivere un programma che visualizzi i capoluoghi di regione presenti in capoluoghiRegione\n",
        "nelle posizioni pari."
      ]
    },
    {
      "cell_type": "code",
      "metadata": {
        "colab": {
          "base_uri": "https://localhost:8080/"
        },
        "id": "gwNVFgq5u8ss",
        "outputId": "cdcff608-c9ba-4742-918a-4305f8f145cc"
      },
      "source": [
        "capoluoghiRegione [:20:2]"
      ],
      "execution_count": 93,
      "outputs": [
        {
          "output_type": "execute_result",
          "data": {
            "text/plain": [
              "[\"L'Aquila\",\n",
              " 'Catanzaro',\n",
              " 'Bologna',\n",
              " 'Roma',\n",
              " 'Milano',\n",
              " 'Campobasso',\n",
              " 'Bari',\n",
              " 'Palermo',\n",
              " 'Trento',\n",
              " 'Aosta']"
            ]
          },
          "metadata": {},
          "execution_count": 93
        }
      ]
    },
    {
      "cell_type": "markdown",
      "metadata": {
        "id": "0QZJ6B7Mu8-s"
      },
      "source": [
        "Scrivere un programma che visualizzi i capoluoghi di regione presenti in capoluoghiRegione\n",
        "nelle posizioni dispari."
      ]
    },
    {
      "cell_type": "code",
      "metadata": {
        "colab": {
          "base_uri": "https://localhost:8080/"
        },
        "id": "pj0ifi1bu-6q",
        "outputId": "aca314f3-3b27-4d67-dd64-458e9707e850"
      },
      "source": [
        "capoluoghiRegione.reverse()\n",
        "capoluoghiRegione[:20:2]"
      ],
      "execution_count": 94,
      "outputs": [
        {
          "output_type": "execute_result",
          "data": {
            "text/plain": [
              "['Venezia',\n",
              " 'Perugia',\n",
              " 'Firenze',\n",
              " 'Cagliari',\n",
              " 'Torino',\n",
              " 'Ancona',\n",
              " 'Genova',\n",
              " 'Trieste',\n",
              " 'Napoli',\n",
              " 'Potenza']"
            ]
          },
          "metadata": {},
          "execution_count": 94
        }
      ]
    },
    {
      "cell_type": "markdown",
      "metadata": {
        "id": "GIky18blu_22"
      },
      "source": [
        "Scrivere un programma che visualizzi il primo capoluogo di regione in ordine alfabetico"
      ]
    },
    {
      "cell_type": "code",
      "metadata": {
        "colab": {
          "base_uri": "https://localhost:8080/"
        },
        "id": "sOc4Y3CWvFNQ",
        "outputId": "3c55923b-8d73-4acf-b10c-ef6170b2ea68"
      },
      "source": [
        "capoluoghiRegione.sort()\n",
        "print(capoluoghiRegione[0])"
      ],
      "execution_count": 95,
      "outputs": [
        {
          "output_type": "stream",
          "name": "stdout",
          "text": [
            "Ancona\n"
          ]
        }
      ]
    },
    {
      "cell_type": "markdown",
      "metadata": {
        "id": "UPLkoWMwvq6E"
      },
      "source": [
        "Scrivere un programma che permetta ad un utente di inserire il nome di una città è risponda True\n",
        "se quella città è un capoluogo di regione, False altrimenti."
      ]
    },
    {
      "cell_type": "code",
      "metadata": {
        "colab": {
          "base_uri": "https://localhost:8080/"
        },
        "id": "Xa4gwZYNvsrN",
        "outputId": "677c28c3-a2dd-430d-9858-611342c82a26"
      },
      "source": [
        "cit= input(\"Città: \")\n",
        "cit in capoluoghiRegione"
      ],
      "execution_count": 96,
      "outputs": [
        {
          "name": "stdout",
          "output_type": "stream",
          "text": [
            "Città: Milano\n"
          ]
        },
        {
          "output_type": "execute_result",
          "data": {
            "text/plain": [
              "True"
            ]
          },
          "metadata": {},
          "execution_count": 96
        }
      ]
    },
    {
      "cell_type": "markdown",
      "metadata": {
        "id": "uG5RpEowwCmc"
      },
      "source": [
        "Scrivere un programma che visualizzi i capoluoghi in ordine alfabetico"
      ]
    },
    {
      "cell_type": "code",
      "metadata": {
        "colab": {
          "base_uri": "https://localhost:8080/"
        },
        "id": "RzM8Jj3vwEYq",
        "outputId": "2bbac7d7-bb00-4916-df1e-cbae201acc84"
      },
      "source": [
        "capoluoghiRegione.sort\n",
        "print(capoluoghiRegione)"
      ],
      "execution_count": 97,
      "outputs": [
        {
          "output_type": "stream",
          "name": "stdout",
          "text": [
            "['Ancona', 'Aosta', 'Bari', 'Bologna', 'Cagliari', 'Campobasso', 'Catanzaro', 'Firenze', 'Genova', \"L'Aquila\", 'Milano', 'Napoli', 'Palermo', 'Perugia', 'Potenza', 'Roma', 'Torino', 'Trento', 'Trieste', 'Venezia']\n"
          ]
        }
      ]
    },
    {
      "cell_type": "markdown",
      "metadata": {
        "id": "29dZPlIrwKpH"
      },
      "source": [
        "Scrivere un programma che visualizzi i capoluoghi in ordine alfabetico inverso (dalla Z alla A)"
      ]
    },
    {
      "cell_type": "code",
      "metadata": {
        "colab": {
          "base_uri": "https://localhost:8080/"
        },
        "id": "p7Ndqn5zwLEF",
        "outputId": "d09919aa-63e3-45b2-8931-ef11c93a029a"
      },
      "source": [
        "print(sorted(capoluoghiRegione,reverse=True))"
      ],
      "execution_count": 98,
      "outputs": [
        {
          "output_type": "stream",
          "name": "stdout",
          "text": [
            "['Venezia', 'Trieste', 'Trento', 'Torino', 'Roma', 'Potenza', 'Perugia', 'Palermo', 'Napoli', 'Milano', \"L'Aquila\", 'Genova', 'Firenze', 'Catanzaro', 'Campobasso', 'Cagliari', 'Bologna', 'Bari', 'Aosta', 'Ancona']\n"
          ]
        }
      ]
    },
    {
      "cell_type": "markdown",
      "metadata": {
        "id": "RiVSNxVvwlD8"
      },
      "source": [
        "Scrivere un programma che visualizzi i capoluoghi in ordine sulla base della lunghezza del nome (da\n",
        "quello più corto a quello più lungo)"
      ]
    },
    {
      "cell_type": "code",
      "metadata": {
        "colab": {
          "base_uri": "https://localhost:8080/"
        },
        "id": "9nEvqKDmwlcm",
        "outputId": "224f415e-521b-4430-e8df-7a766da0ad30"
      },
      "source": [
        "capoluoghiRegione.sort(key=len)\n",
        "print(capoluoghiRegione)"
      ],
      "execution_count": 99,
      "outputs": [
        {
          "output_type": "stream",
          "name": "stdout",
          "text": [
            "['Bari', 'Roma', 'Aosta', 'Ancona', 'Genova', 'Milano', 'Napoli', 'Torino', 'Trento', 'Bologna', 'Firenze', 'Palermo', 'Perugia', 'Potenza', 'Trieste', 'Venezia', 'Cagliari', \"L'Aquila\", 'Catanzaro', 'Campobasso']\n"
          ]
        }
      ]
    },
    {
      "cell_type": "markdown",
      "metadata": {
        "id": "yqyFS1-lyV_O"
      },
      "source": [
        "Scrivere un programma che copi la lista capoluoghiRegione nella lista\n",
        "capoluoghiRegione2 e che elimini dalla prima lista il primo e l’ultimo elemento. Al termine,\n",
        "visualizzare le due liste una sotto l’altra per verificare che effettivamente siano stati eliminati gli\n",
        "elementi della lista originale."
      ]
    },
    {
      "cell_type": "code",
      "metadata": {
        "colab": {
          "base_uri": "https://localhost:8080/"
        },
        "id": "StwTS0P4yZJq",
        "outputId": "9145e2ae-3d24-4d2d-a3c5-7e25dc5caf0b"
      },
      "source": [
        "capoluoghiRegione2=capoluoghiRegione[:]\n",
        "capoluoghiRegione.pop()\n",
        "del capoluoghiRegione[0]\n",
        "print(capoluoghiRegione)\n",
        "print(capoluoghiRegione2)"
      ],
      "execution_count": 100,
      "outputs": [
        {
          "output_type": "stream",
          "name": "stdout",
          "text": [
            "['Roma', 'Aosta', 'Ancona', 'Genova', 'Milano', 'Napoli', 'Torino', 'Trento', 'Bologna', 'Firenze', 'Palermo', 'Perugia', 'Potenza', 'Trieste', 'Venezia', 'Cagliari', \"L'Aquila\", 'Catanzaro']\n",
            "['Bari', 'Roma', 'Aosta', 'Ancona', 'Genova', 'Milano', 'Napoli', 'Torino', 'Trento', 'Bologna', 'Firenze', 'Palermo', 'Perugia', 'Potenza', 'Trieste', 'Venezia', 'Cagliari', \"L'Aquila\", 'Catanzaro', 'Campobasso']\n"
          ]
        }
      ]
    },
    {
      "cell_type": "markdown",
      "metadata": {
        "id": "En7bTLWty1F0"
      },
      "source": [
        "Scrivere un programma che, con una sola istruzione, carichi una lista con i primi 100 numeri interi.\n",
        "Chiamare la lista numeriInteri. Al termine, visualizzare la lista.testo in corsivo"
      ]
    },
    {
      "cell_type": "code",
      "metadata": {
        "colab": {
          "base_uri": "https://localhost:8080/"
        },
        "id": "fx6K-kGvy3SC",
        "outputId": "f625642a-e063-444d-e7b5-62f1d630b186"
      },
      "source": [
        "numeriInteri = list(range(1, 101))\n",
        "print (numeriInteri)"
      ],
      "execution_count": 110,
      "outputs": [
        {
          "output_type": "stream",
          "name": "stdout",
          "text": [
            "[1, 2, 3, 4, 5, 6, 7, 8, 9, 10, 11, 12, 13, 14, 15, 16, 17, 18, 19, 20, 21, 22, 23, 24, 25, 26, 27, 28, 29, 30, 31, 32, 33, 34, 35, 36, 37, 38, 39, 40, 41, 42, 43, 44, 45, 46, 47, 48, 49, 50, 51, 52, 53, 54, 55, 56, 57, 58, 59, 60, 61, 62, 63, 64, 65, 66, 67, 68, 69, 70, 71, 72, 73, 74, 75, 76, 77, 78, 79, 80, 81, 82, 83, 84, 85, 86, 87, 88, 89, 90, 91, 92, 93, 94, 95, 96, 97, 98, 99, 100]\n"
          ]
        }
      ]
    },
    {
      "cell_type": "markdown",
      "metadata": {
        "id": "ma9KlWum0xyf"
      },
      "source": [
        "Scrivere un programma che permetta all’utente di inserire in una lista 10 numeri interi, elimini i\n",
        "duplicati e visualizzi la lista senza duplicati. Chiamare la lista numeriInteri."
      ]
    }
  ]
}