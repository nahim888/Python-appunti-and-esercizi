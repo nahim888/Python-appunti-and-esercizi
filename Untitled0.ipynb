{
  "nbformat": 4,
  "nbformat_minor": 0,
  "metadata": {
    "colab": {
      "name": "Untitled0.ipynb",
      "provenance": [],
      "collapsed_sections": []
    },
    "kernelspec": {
      "name": "python3",
      "display_name": "Python 3"
    },
    "language_info": {
      "name": "python"
    }
  },
  "cells": [
    {
      "cell_type": "code",
      "metadata": {
        "colab": {
          "base_uri": "https://localhost:8080/"
        },
        "id": "-g7m0KJoOzGD",
        "outputId": "072990dc-eda5-4ac8-fc2e-b69eef325e0d"
      },
      "source": [
        "a=10\n",
        "print(a)\n"
      ],
      "execution_count": null,
      "outputs": [
        {
          "output_type": "stream",
          "name": "stdout",
          "text": [
            "10\n"
          ]
        }
      ]
    },
    {
      "cell_type": "code",
      "metadata": {
        "colab": {
          "base_uri": "https://localhost:8080/"
        },
        "id": "eWFO-t4vRv5E",
        "outputId": "e743b693-2c34-4a20-9b12-aed5792945d8"
      },
      "source": [
        "a=\"pippo\"\n",
        "print(a)"
      ],
      "execution_count": null,
      "outputs": [
        {
          "output_type": "stream",
          "name": "stdout",
          "text": [
            "pippo\n"
          ]
        }
      ]
    },
    {
      "cell_type": "code",
      "metadata": {
        "colab": {
          "base_uri": "https://localhost:8080/"
        },
        "id": "0dmGKR_hUZom",
        "outputId": "0f97d8eb-e0d1-476e-8748-3ce527e434f5"
      },
      "source": [
        "a=pow(5,180)\n",
        "print(a)"
      ],
      "execution_count": null,
      "outputs": [
        {
          "output_type": "stream",
          "name": "stdout",
          "text": [
            "652530446799852452671029410925654755570116425806896654775863645546972324459748622722289612685386828161426819860935211181640625\n"
          ]
        }
      ]
    },
    {
      "cell_type": "code",
      "metadata": {
        "colab": {
          "base_uri": "https://localhost:8080/"
        },
        "id": "aNKCUKS2VTSd",
        "outputId": "ab0a9f00-1460-4b8e-ed0e-9ed623dcbcb6"
      },
      "source": [
        "a=(12/11)\n",
        "print(a)\n",
        "\n",
        "#Questo è un commento"
      ],
      "execution_count": null,
      "outputs": [
        {
          "output_type": "stream",
          "name": "stdout",
          "text": [
            "1.0909090909090908\n"
          ]
        }
      ]
    },
    {
      "cell_type": "markdown",
      "metadata": {
        "id": "GgYryx0QS74F"
      },
      "source": [
        "**La seguente sequenza di comandi ci permette di vedere le principali operazioni matematiche**"
      ]
    },
    {
      "cell_type": "code",
      "metadata": {
        "colab": {
          "base_uri": "https://localhost:8080/"
        },
        "id": "KgejD75-TJPU",
        "outputId": "f39be5ff-b0aa-4d52-feeb-f9ef5968fa68"
      },
      "source": [
        "somma=10+5\n",
        "differenza=10-5\n",
        "moltiplicazione=10*5\n",
        "divisione=10/5\n",
        "print(somma,differenza,moltiplicazione,divisione)"
      ],
      "execution_count": null,
      "outputs": [
        {
          "output_type": "stream",
          "name": "stdout",
          "text": [
            "15 5 50 2.0\n"
          ]
        }
      ]
    },
    {
      "cell_type": "code",
      "metadata": {
        "colab": {
          "base_uri": "https://localhost:8080/"
        },
        "id": "nxOPc8esTfhm",
        "outputId": "50ee2eae-b101-402d-bc13-f800ed1684d9"
      },
      "source": [
        "somma=10+5\n",
        "differenza=10-5\n",
        "moltiplicazione=10*5\n",
        "divisione=10/5\n",
        "print(\"La somma è: \" + str(somma))\n",
        "print(\"La differenza è: \" + str(differenza))\n",
        "print(\"La moltiplicazione è: \" + str(moltiplicazione))\n",
        "print(\"La divisione è: \" + str(divisione))"
      ],
      "execution_count": null,
      "outputs": [
        {
          "output_type": "stream",
          "name": "stdout",
          "text": [
            "La somma è: 15\n",
            "La differenza è: 5\n",
            "La moltiplicazione è: 50\n",
            "La divisione è: 2.0\n"
          ]
        }
      ]
    }
  ]
}