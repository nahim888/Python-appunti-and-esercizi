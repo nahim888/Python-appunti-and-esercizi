{
  "nbformat": 4,
  "nbformat_minor": 0,
  "metadata": {
    "colab": {
      "name": "esercizio5.ipynb",
      "provenance": [],
      "collapsed_sections": []
    },
    "kernelspec": {
      "name": "python3",
      "display_name": "Python 3"
    },
    "language_info": {
      "name": "python"
    }
  },
  "cells": [
    {
      "cell_type": "markdown",
      "metadata": {
        "id": "wJQNbcMnf8hb"
      },
      "source": [
        "1. scrivere una funzione chiamata max che dati due numeri restituisca il più grande. Scrivere poi un programma che, utilizzando la funzione creata, trovi il massimo tra tre numeri inseriti dall'utente. \n"
      ]
    },
    {
      "cell_type": "code",
      "metadata": {
        "colab": {
          "base_uri": "https://localhost:8080/"
        },
        "id": "ZujWM6r8io04",
        "outputId": "e71ea39e-c4af-42e8-8e80-fc28b5a73297"
      },
      "source": [
        "def max(x,y):\n",
        "  if x > y:\n",
        "    return x\n",
        "  else:\n",
        "    return y\n",
        "x= int(input(\"Inserisci il primo numero: \"))\n",
        "y= int(input(\"Inserisci il secondo numero: \"))\n",
        "z= int(input(\"Inserisci il terzo numero: \"))\n",
        "print(\"Il numero più grande è\", max((max(x,y)),z))"
      ],
      "execution_count": 44,
      "outputs": [
        {
          "output_type": "stream",
          "name": "stdout",
          "text": [
            "Inserisci il primo numero: 2\n",
            "Inserisci il secondo numero: 34\n",
            "Inserisci il terzo numero: 5\n",
            "Il numero più grande è 34\n"
          ]
        }
      ]
    },
    {
      "cell_type": "markdown",
      "metadata": {
        "id": "dAB1fxVlkL-D"
      },
      "source": [
        "2. scrivere una funzione chiamata sommaLista che data una lista di interi restituisca la somma di tutti gli elementi della lista. Scrivere poi un programma che, utilizzando la funzione create, trovi la somma degli elementi di una lista inserita dall'utente. \n"
      ]
    },
    {
      "cell_type": "code",
      "metadata": {
        "colab": {
          "base_uri": "https://localhost:8080/"
        },
        "id": "N5oW4oL2kMtU",
        "outputId": "d5efafcb-9fee-454d-ca4b-19376b39e35f"
      },
      "source": [
        "def sommaLista(list, size):\n",
        "   if (size == 0):\n",
        "     return 0\n",
        "   else:\n",
        "     return list[size - 1] + sommaLista(list, size - 1)\n",
        "stringa=input(\"Inserisci i valori: \")\n",
        "numeri=[int(s) for s in stringa.split()]\n",
        "stringa2=input(\"Inserisci i valori: \")\n",
        "numeri2=[int(s) for s in stringa2.split()]\n",
        "print(numeri)\n",
        "print(numeri2)\n",
        "print(sommaLista(numeri, len(numeri)))\n",
        "print(sommaLista(numeri2, len(numeri2)))\n",
        "print(sommaLista(numeri, len(numeri)) + sommaLista(numeri2, len(numeri2)))"
      ],
      "execution_count": 36,
      "outputs": [
        {
          "output_type": "stream",
          "name": "stdout",
          "text": [
            "Inserisci i valori: 1 2 3 4 5 6 7\n",
            "Inserisci i valori: 1 2\n",
            "[1, 2, 3, 4, 5, 6, 7]\n",
            "[1, 2]\n",
            "28\n",
            "3\n",
            "31\n"
          ]
        }
      ]
    },
    {
      "cell_type": "markdown",
      "metadata": {
        "id": "mtfBjDM6rtv3"
      },
      "source": [
        "3. utilizzando le funzioni create precedentemente, scrivere un programma che permetta all'utente di inserire tre liste e di avere il valore massimo della somma degli elementi delle tre liste."
      ]
    },
    {
      "cell_type": "code",
      "metadata": {
        "colab": {
          "base_uri": "https://localhost:8080/"
        },
        "id": "_8UZfbuonBTG",
        "outputId": "1700072c-4318-43c8-b372-a92ce36c0430"
      },
      "source": [
        "stringa=input(\"Inserisci i valori: \")\n",
        "numeri=[int(s) for s in stringa.split()]\n",
        "stringa2=input(\"Inserisci i valori: \")\n",
        "numeri2=[int(s) for s in stringa2.split()]\n",
        "stringa3=input(\"Inserisci i valori: \")\n",
        "numeri3=[int(s) for s in stringa3.split()]\n",
        "print(numeri)\n",
        "print(numeri2)\n",
        "print(numeri3)\n",
        "print(sommaLista(numeri, len(numeri)))\n",
        "print(sommaLista(numeri2, len(numeri2)))\n",
        "print(sommaLista(numeri3, len(numeri3)))\n",
        "print(sommaLista(numeri, len(numeri)) + sommaLista(numeri2, len(numeri2)) + sommaLista(numeri3, len(numeri3)))"
      ],
      "execution_count": 45,
      "outputs": [
        {
          "output_type": "stream",
          "name": "stdout",
          "text": [
            "Inserisci i valori: 1\n",
            "Inserisci i valori: 1\n",
            "Inserisci i valori: 1\n",
            "[1]\n",
            "[1]\n",
            "[1]\n",
            "1\n",
            "1\n",
            "1\n",
            "3\n"
          ]
        }
      ]
    },
    {
      "cell_type": "markdown",
      "metadata": {
        "id": "o_Floj1OsAqk"
      },
      "source": [
        "4. scrivere una funzione chiamata controlla che dato un numero e due estremi restituisca True se il numero è compreso tra i due estremi, false altrimenti. Utilizzare poi la funzione per trovare il numero di elementi di una lista di numeri interi (inserita dall'utente) compresi tra due estremi (inseriti anch'essi dall'utente)\n"
      ]
    },
    {
      "cell_type": "code",
      "metadata": {
        "id": "5hCcFQaWsCkM"
      },
      "source": [
        "def controlla(x,y,z):\n",
        "  c = True\n",
        "  e = False\n",
        "  if x in range(y,z):\n",
        "    return c\n",
        "  else:\n",
        "    return e"
      ],
      "execution_count": null,
      "outputs": []
    },
    {
      "cell_type": "markdown",
      "metadata": {
        "id": "Hd-Ol7hMsLPe"
      },
      "source": [
        "7. scrivere una funzione chiamata celsiusToFahrenheit che data una temperatura in gradi Celsius restituisca il valore convertito in gradi Fahrenheit (per ulteriori info, google it). Scrivere poi un programma che data una lista di temperature in gradi Celsius,inserita dall'utente, converta tutte le temperature in gradi Fahrenheit."
      ]
    },
    {
      "cell_type": "code",
      "metadata": {
        "colab": {
          "base_uri": "https://localhost:8080/"
        },
        "id": "s_Oee2BSsQ3g",
        "outputId": "075f4c1e-e48a-4773-a588-8577f7a0b448"
      },
      "source": [
        "lista = input(\"Inserire un valore in Celsius: \").split(' ')\n",
        "\n",
        "def celsiusToFahrenheit(x):\n",
        "  return round(x * (1.8) + 32)\n",
        "\n",
        "print([celsiusToFahrenheit(int(x)) for x in lista])"
      ],
      "execution_count": 47,
      "outputs": [
        {
          "output_type": "stream",
          "name": "stdout",
          "text": [
            "Inserire un valore in Celsius: 23 3 4 5 6\n",
            "[73, 37, 39, 41, 43]\n"
          ]
        }
      ]
    },
    {
      "cell_type": "markdown",
      "metadata": {
        "id": "vj7Zc1BDsaqY"
      },
      "source": [
        "8. scrivere una funzione chiamata IMC che calcoli l'Indice di Massa Corporea a partire dal peso (in kg) e dall'altezza (in m). Utilizzare poi la funzione per scrivere un programma che date tre liste, contenente la prima una serie di nomi, la seconda una serie di pesi e la terza una serie di altezze, produca una quarta lista contenente i valori di IMC corrispondenti. Visualizzare poi i risultati nel seguente modo: \"<nome> pesa <peso kg, misura <altezza> m ed ha un IMC di <IMC>\" ( i valori nelle parentesi angolari vanno presi ovviamente dalle liste)\n"
      ]
    },
    {
      "cell_type": "code",
      "metadata": {
        "id": "qfW5b519sbif"
      },
      "source": [
        ""
      ],
      "execution_count": null,
      "outputs": []
    },
    {
      "cell_type": "markdown",
      "metadata": {
        "id": "0wIITCIJseKY"
      },
      "source": [
        "9: scrivere una lambda function per estrarre da una lista di numeri interi tutti i valori pari.\n"
      ]
    },
    {
      "cell_type": "code",
      "metadata": {
        "colab": {
          "base_uri": "https://localhost:8080/"
        },
        "id": "eLiXojglsgSY",
        "outputId": "ca95d9af-5842-440e-9987-dce13c135ea4"
      },
      "source": [
        "l1 = [0,1,2,3,4,5,6,7,8,9]\n",
        "risultato = lambda l1: [n for n in l1 if n%2 == 0]\n",
        "print(risultato(l1))"
      ],
      "execution_count": 48,
      "outputs": [
        {
          "output_type": "stream",
          "name": "stdout",
          "text": [
            "[0, 2, 4, 6, 8]\n"
          ]
        }
      ]
    }
  ]
}