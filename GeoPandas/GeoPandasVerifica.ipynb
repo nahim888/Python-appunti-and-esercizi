{
  "nbformat": 4,
  "nbformat_minor": 0,
  "metadata": {
    "colab": {
      "name": "GeoPandasVerifica.ipynb",
      "provenance": [],
      "collapsed_sections": []
    },
    "kernelspec": {
      "name": "python3",
      "display_name": "Python 3"
    },
    "language_info": {
      "name": "python"
    }
  },
  "cells": [
    {
      "cell_type": "code",
      "execution_count": null,
      "metadata": {
        "id": "ZYf6Dx5Y0diK"
      },
      "outputs": [],
      "source": [
        "from google.colab import drive\n",
        "drive.mount('/content/drive')"
      ]
    },
    {
      "cell_type": "code",
      "source": [
        "!pip install geopandas\n",
        "!pip install contextily\n",
        "import geopandas\n",
        "import contextily as ctx"
      ],
      "metadata": {
        "id": "1ByA0Oxx0eJY"
      },
      "execution_count": null,
      "outputs": []
    },
    {
      "cell_type": "code",
      "source": [
        "quartieri = geopandas.read_file(\"/content/drive/MyDrive/Colab Notebooks/geopandas-tutorial-master/ds964_nil_wm.zip\")\n",
        "bike_ciclabili = geopandas.read_file(\"/content/drive/MyDrive/Colab Notebooks/geopandas-tutorial-master/bike_ciclabili.zip\")\n",
        "fontanelle = geopandas.read_file(\"/content/drive/MyDrive/Colab Notebooks/geopandas-tutorial-master/Fontanelle.zip\")\n",
        "parchi = geopandas.read_file(\"/content/drive/MyDrive/Colab Notebooks/geopandas-tutorial-master/Parchi_regionali_e_nazionali_polygon/Parchi_regionali_e_nazionali_polygon.dbf\")\n",
        "comuni = geopandas.read_file(\"/content/drive/MyDrive/Colab Notebooks/geopandas-tutorial-master/Limiti01012021_g/Com01012021_g/Com01012021_g_WGS84.dbf\")\n",
        "province = geopandas.read_file(\"/content/drive/MyDrive/Colab Notebooks/geopandas-tutorial-master/Limiti01012021_g/ProvCM01012021_g/ProvCM01012021_g_WGS84.dbf\")\n",
        "regioni = geopandas.read_file(\"/content/drive/MyDrive/Colab Notebooks/geopandas-tutorial-master/Limiti01012021_g/Reg01012021_g/Reg01012021_g_WGS84.dbf\")\n",
        "corsi_acqua = geopandas.read_file(\"/content/drive/MyDrive/Colab Notebooks/geopandas-tutorial-master/Corsi_acqua_Piano_di_Gestione/Corsi_acqua_Piano_di_Gestione.dbf\")\n",
        "autostrade = geopandas.read_file(\"/content/drive/MyDrive/Colab Notebooks/Autostrade_10000_CT10_line.zip\")"
      ],
      "metadata": {
        "id": "8aEHZWlx0fov"
      },
      "execution_count": null,
      "outputs": []
    },
    {
      "cell_type": "code",
      "source": [
        "#Esercizio 1\n",
        "\n",
        "lombardia = regioni[regioni.DEN_REG == \"Lombardia\"]\n",
        "provincelombarde = province[province.within(lombardia.unary_union)]\n",
        "\n",
        "ax = provincelombarde.to_crs(epsg=3857).plot(figsize = (20,12), edgecolor = \"k\", facecolor = \"none\")\n",
        "autostrade.to_crs(epsg=3857).plot(ax=ax, edgecolor = \"grey\")\n",
        "ctx.add_basemap(ax)"
      ],
      "metadata": {
        "id": "5zD9HnkQ08eC"
      },
      "execution_count": null,
      "outputs": []
    },
    {
      "cell_type": "code",
      "source": [
        "#Esercizio 2\n",
        "\n",
        "b = input(\"Inserisci una autostrada: \")\n",
        "lst = list(autostrade[\"PERCORSO\"])\n",
        "if b not in lst:\n",
        "  print(\"Autostrada non esistente\")\n",
        "else:\n",
        "  autostrada1 = autostrade[autostrade.PERCORSO.str.contains(b)]\n",
        "  provauto = province[province.intersects(autostrada1.unary_union)]\n",
        "  ax = provauto.to_crs(epsg = 3857).plot(figsize = (20,12), facecolor = \"green\", edgecolor = \"k\", alpha = 0.2)\n",
        "  autostrada1.to_crs(epsg=3857).plot(ax=ax, edgecolor = \"grey\")\n",
        "  ctx.add_basemap(ax)"
      ],
      "metadata": {
        "id": "4BEiozmJ3sCm"
      },
      "execution_count": null,
      "outputs": []
    },
    {
      "cell_type": "code",
      "source": [
        "#Esercizio 3\n",
        "\n",
        "a = int(input(\"inserisci la distanza: \"))\n",
        "b = input(\"Inserisci una autostrada: \")\n",
        "autostrada1 = autostrade[autostrade.PERCORSO.str.contains(b)]\n",
        "\n",
        "ax = comuni[comuni.intersects(autostrada1.unary_union.buffer(a))].to_crs(epsg=3857).plot(facecolor = \"red\", alpha = 0.5)\n",
        "autostrada1.to_crs(epsg=3857).plot(ax=ax, edgecolor = \"k\")\n",
        "ctx.add_basemap(ax)"
      ],
      "metadata": {
        "id": "3WGZUrMc9-tx"
      },
      "execution_count": null,
      "outputs": []
    },
    {
      "cell_type": "code",
      "source": [
        "#Esercizio 4\n",
        "\n",
        "parchilombardi = parchi[parchi.intersects(lombardia.unary_union)]\n",
        "parchina = parchilombardi[~parchilombardi.intersects(autostrade.unary_union)]\n",
        "parchina\n",
        "\n",
        "ax = parchina.to_crs(epsg=3857).plot(facecolor = \"green\", alpha = 0.5, figsize = (20,12))\n",
        "ctx.add_basemap(ax=ax)"
      ],
      "metadata": {
        "id": "VIl9pcnp616G"
      },
      "execution_count": null,
      "outputs": []
    }
  ]
}