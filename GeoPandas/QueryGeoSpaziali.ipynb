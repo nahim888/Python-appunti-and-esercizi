{
  "nbformat": 4,
  "nbformat_minor": 0,
  "metadata": {
    "colab": {
      "name": "QueryGeoSpaziali.ipynb",
      "provenance": [],
      "collapsed_sections": []
    },
    "kernelspec": {
      "name": "python3",
      "display_name": "Python 3"
    },
    "language_info": {
      "name": "python"
    }
  },
  "cells": [
    {
      "cell_type": "code",
      "execution_count": null,
      "metadata": {
        "id": "ia3As5k3OAXd"
      },
      "outputs": [],
      "source": [
        "import os\n",
        "!pip install rtree\n",
        "!curl -L http://download.osgeo.org/libspatialindex/spatialindex-src-1.8.5.tar.gz | tar xz\n",
        "os.chdir(\"/content/spatialindex-src-1.8.5\")\n",
        "!./configure\n",
        "!make\n",
        "!make install\n",
        "!ldconfig"
      ]
    },
    {
      "cell_type": "code",
      "source": [
        "!pip install geopandas\n",
        "import geopandas\n",
        "import pandas as pd\n",
        "!pip install contextily\n",
        "import contextily as ctx"
      ],
      "metadata": {
        "id": "TNplbyfJPOXZ"
      },
      "execution_count": null,
      "outputs": []
    },
    {
      "cell_type": "code",
      "source": [
        "comuni = geopandas.read_file(\"/content/drive/MyDrive/Colab Notebooks/geopandas-tutorial-master/Limiti01012021_g/Com01012021_g/Com01012021_g_WGS84.dbf\")\n",
        "province = geopandas.read_file(\"/content/drive/MyDrive/Colab Notebooks/geopandas-tutorial-master/Limiti01012021_g/ProvCM01012021_g/ProvCM01012021_g_WGS84.dbf\")\n",
        "regioni = geopandas.read_file(\"/content/drive/MyDrive/Colab Notebooks/geopandas-tutorial-master/Limiti01012021_g/Reg01012021_g/Reg01012021_g_WGS84.dbf\")"
      ],
      "metadata": {
        "id": "MJb5VP-FPK1q"
      },
      "execution_count": null,
      "outputs": []
    },
    {
      "cell_type": "code",
      "source": [
        "comuni = comuni[[\"COMUNE\", \"geometry\"]]\n",
        "province = province[[\"DEN_UTS\", \"geometry\"]]\n",
        "regioni = regioni[[\"DEN_REG\", \"geometry\"]]"
      ],
      "metadata": {
        "id": "bMzehhoEPRWi"
      },
      "execution_count": null,
      "outputs": []
    },
    {
      "cell_type": "code",
      "source": [
        ""
      ],
      "metadata": {
        "id": "pfFJ_4QIQb10"
      },
      "execution_count": null,
      "outputs": []
    }
  ]
}