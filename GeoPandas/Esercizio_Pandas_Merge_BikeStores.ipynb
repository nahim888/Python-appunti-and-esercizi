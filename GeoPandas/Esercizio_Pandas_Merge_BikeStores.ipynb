{
  "nbformat": 4,
  "nbformat_minor": 0,
  "metadata": {
    "colab": {
      "name": "Esercizio Pandas/Merge - BikeStores.ipynb",
      "provenance": [],
      "collapsed_sections": []
    },
    "kernelspec": {
      "name": "python3",
      "display_name": "Python 3"
    },
    "language_info": {
      "name": "python"
    }
  },
  "cells": [
    {
      "cell_type": "code",
      "source": [
        "import pandas as pd\n",
        "import xlrd\n",
        "import matplotlib.pyplot as plt"
      ],
      "metadata": {
        "id": "KSGWJd_b5w7P"
      },
      "execution_count": null,
      "outputs": []
    },
    {
      "cell_type": "code",
      "execution_count": null,
      "metadata": {
        "id": "fBysm_n025p1"
      },
      "outputs": [],
      "source": [
        "!pip install xlrd==1.2.0"
      ]
    },
    {
      "cell_type": "markdown",
      "source": [
        "caricare i fogli \"categories\", \"brands\" e \"products\" in tre dataframe distinti. Scrivere poi le istruzioni per estrarre le\n",
        "seguenti informazioni:\n"
      ],
      "metadata": {
        "id": "1mYTWrI-3Dy3"
      }
    },
    {
      "cell_type": "code",
      "source": [
        "brands = pd.read_excel('/content/drive/MyDrive/Colab Notebooks/BikeStores.xls', sheet_name=\"brands\")\n",
        "categories = pd.read_excel('/content/drive/MyDrive/Colab Notebooks/BikeStores.xls', sheet_name=\"categories\")\n",
        "products = pd.read_excel('/content/drive/MyDrive/Colab Notebooks/BikeStores.xls', sheet_name=\"products\")"
      ],
      "metadata": {
        "id": "1twFaDDL3DSf"
      },
      "execution_count": null,
      "outputs": []
    },
    {
      "cell_type": "markdown",
      "source": [
        "1. il catalogo complessivo dei prodotti. Visualizzare il nome del prodotto, il nome della marca e la categoria\n"
      ],
      "metadata": {
        "id": "AWESVWPn6kWB"
      }
    },
    {
      "cell_type": "code",
      "source": [
        "catalogo = pd.merge(products, brands, how =\"inner\", on=\"brand_id\")[[\"product_name\", \"brand_name\", \"category_id\"]]\n",
        "catalogo = pd.merge(catalogo, categories, how = \"inner\", on = \"category_id\")[[\"product_name\", \"brand_name\", \"category_name\"]]\n",
        "catalogo"
      ],
      "metadata": {
        "id": "gN9v6z0o6lQY"
      },
      "execution_count": null,
      "outputs": []
    },
    {
      "cell_type": "markdown",
      "source": [
        "2. il numero di prodotti per ogni categoria. Visualizzare i nomi delle categorie e il numero dei prodotti.\n"
      ],
      "metadata": {
        "id": "Fo80XBHf8Pbx"
      }
    },
    {
      "cell_type": "code",
      "source": [
        "catalogo.groupby(\"category_name\")[\"product_name\"].count()"
      ],
      "metadata": {
        "id": "usI7trIF8QrX"
      },
      "execution_count": null,
      "outputs": []
    },
    {
      "cell_type": "code",
      "source": [
        "categorie_prodotti = catalogo.groupby(\"category_name\")[\"product_name\"].count()\n",
        "\n",
        "fig = plt.figure(figsize = (12,12))\n",
        "ax = plt.axes()\n",
        "plt.rcParams.update({\"font.size\" : 13})\n",
        "ax.pie(categorie_prodotti.values, labels = categorie_prodotti.index, autopct = \"%.1f%%\", startangle = 90)\n",
        "plt.show()"
      ],
      "metadata": {
        "id": "S2SpVTcUXKlH"
      },
      "execution_count": null,
      "outputs": []
    },
    {
      "cell_type": "markdown",
      "source": [
        "3. il numero di prodotti per ogni marca (brand). Visualizzare i nomi dei brand e il numero di prodotti\n"
      ],
      "metadata": {
        "id": "7mgN4VFN8a-v"
      }
    },
    {
      "cell_type": "code",
      "source": [
        "catalogo.groupby(\"brand_name\")[\"product_name\"].count()"
      ],
      "metadata": {
        "id": "DUCLl6gw8dC2"
      },
      "execution_count": null,
      "outputs": []
    },
    {
      "cell_type": "code",
      "source": [
        "brand_prodotti = catalogo.groupby(\"brand_name\")[\"product_name\"].count()\n",
        "\n",
        "fig = plt.figure(figsize = (12,12))\n",
        "ax = plt.axes()\n",
        "plt.rcParams.update({\"font.size\" : 13})\n",
        "ax.pie(brand_prodotti.values, labels = brand_prodotti.index, autopct = \"%.1f%%\", startangle = 90)\n",
        "plt.show"
      ],
      "metadata": {
        "id": "SXT4mWtIa37m"
      },
      "execution_count": null,
      "outputs": []
    },
    {
      "cell_type": "markdown",
      "source": [
        "4. i nomi dei prodotti della marca Trek\n"
      ],
      "metadata": {
        "id": "5OtG50-B8iSe"
      }
    },
    {
      "cell_type": "code",
      "source": [
        "catalogo[catalogo.brand_name == \"Trek\"][\"product_name\"]"
      ],
      "metadata": {
        "id": "EB0kGfpj8sXP"
      },
      "execution_count": null,
      "outputs": []
    },
    {
      "cell_type": "markdown",
      "source": [
        "5. i prodotti delle categorie che hanno la parola 'Bikes' nel nome\n"
      ],
      "metadata": {
        "id": "DlT52Fpf85E5"
      }
    },
    {
      "cell_type": "code",
      "source": [
        "catalogo[catalogo.category_name.str.contains(\"Bikes\")][\"product_name\"]"
      ],
      "metadata": {
        "id": "hEsVA8Py9ACA"
      },
      "execution_count": null,
      "outputs": []
    },
    {
      "cell_type": "markdown",
      "source": [
        "6. la categoria che ha il prodotto che costa di più\n"
      ],
      "metadata": {
        "id": "UXz42Bss9Nov"
      }
    },
    {
      "cell_type": "code",
      "source": [
        "catalogo_prezzi = pd.merge(products, categories, how = \"inner\", on = \"category_id\")[[\"product_name\", \"list_price\", \"category_name\"]]\n",
        "catalogo_prezzi[catalogo_prezzi.list_price == catalogo_prezzi.list_price.max()][\"category_name\"]"
      ],
      "metadata": {
        "id": "nU0UUT4L9Oo_",
        "colab": {
          "base_uri": "https://localhost:8080/",
          "height": 389
        },
        "outputId": "7a5cfed3-831c-4b98-ed8b-4434c95fe0cc"
      },
      "execution_count": null,
      "outputs": [
        {
          "output_type": "error",
          "ename": "NameError",
          "evalue": "ignored",
          "traceback": [
            "\u001b[0;31m---------------------------------------------------------------------------\u001b[0m",
            "\u001b[0;31mNameError\u001b[0m                                 Traceback (most recent call last)",
            "\u001b[0;32m<ipython-input-1-6246f3a38d28>\u001b[0m in \u001b[0;36m<module>\u001b[0;34m()\u001b[0m\n\u001b[0;32m----> 1\u001b[0;31m \u001b[0mcatalogo_prezzi\u001b[0m \u001b[0;34m=\u001b[0m \u001b[0mpd\u001b[0m\u001b[0;34m.\u001b[0m\u001b[0mmerge\u001b[0m\u001b[0;34m(\u001b[0m\u001b[0mproducts\u001b[0m\u001b[0;34m,\u001b[0m \u001b[0mcategories\u001b[0m\u001b[0;34m,\u001b[0m \u001b[0mhow\u001b[0m \u001b[0;34m=\u001b[0m \u001b[0;34m\"inner\"\u001b[0m\u001b[0;34m,\u001b[0m \u001b[0mon\u001b[0m \u001b[0;34m=\u001b[0m \u001b[0;34m\"category_id\"\u001b[0m\u001b[0;34m)\u001b[0m\u001b[0;34m[\u001b[0m\u001b[0;34m[\u001b[0m\u001b[0;34m\"product_name\"\u001b[0m\u001b[0;34m,\u001b[0m \u001b[0;34m\"list_price\"\u001b[0m\u001b[0;34m,\u001b[0m \u001b[0;34m\"category_name\"\u001b[0m\u001b[0;34m]\u001b[0m\u001b[0;34m]\u001b[0m\u001b[0;34m\u001b[0m\u001b[0;34m\u001b[0m\u001b[0m\n\u001b[0m\u001b[1;32m      2\u001b[0m \u001b[0mcatalogo_prezzi\u001b[0m\u001b[0;34m[\u001b[0m\u001b[0mcatalogo_prezzi\u001b[0m\u001b[0;34m.\u001b[0m\u001b[0mlist_price\u001b[0m \u001b[0;34m==\u001b[0m \u001b[0mcatalogo_prezzi\u001b[0m\u001b[0;34m.\u001b[0m\u001b[0mlist_price\u001b[0m\u001b[0;34m.\u001b[0m\u001b[0mmax\u001b[0m\u001b[0;34m(\u001b[0m\u001b[0;34m)\u001b[0m\u001b[0;34m]\u001b[0m\u001b[0;34m[\u001b[0m\u001b[0;34m\"category_name\"\u001b[0m\u001b[0;34m]\u001b[0m\u001b[0;34m\u001b[0m\u001b[0;34m\u001b[0m\u001b[0m\n",
            "\u001b[0;31mNameError\u001b[0m: name 'pd' is not defined"
          ]
        }
      ]
    },
    {
      "cell_type": "markdown",
      "source": [
        "7. i brand con almeno 100 prodotti. Visualizzare il nome del brand e il numero di prodotti\n"
      ],
      "metadata": {
        "id": "h6DGIzezB4k4"
      }
    },
    {
      "cell_type": "code",
      "source": [
        "c = catalogo.groupby(\"brand_name\")[\"product_name\"].count().reset_index()\n",
        "c[c.product_name >= 100]"
      ],
      "metadata": {
        "id": "MLeM3KreB5Qw"
      },
      "execution_count": null,
      "outputs": []
    },
    {
      "cell_type": "code",
      "source": [
        "d = c[c.product_name > 100]\n",
        "\n",
        "fig = plt.figure(figsize = (12,12))\n",
        "ax = plt.axes()\n",
        "plt.rcParams.update({\"font.size\" : 13})\n",
        "ax.pie(d[\"product_name\"], labels = d[\"brand_name\"], autopct = \"%.1f%%\", startangle = 90)\n",
        "plt.show()"
      ],
      "metadata": {
        "id": "lovYYUjib3lY"
      },
      "execution_count": null,
      "outputs": []
    },
    {
      "cell_type": "markdown",
      "source": [
        "8. la marca del prodotto 'Electra Townie Original 21D - 2016'\n"
      ],
      "metadata": {
        "id": "jDJ63Le-CTOJ"
      }
    },
    {
      "cell_type": "code",
      "source": [
        "catalogo[catalogo.product_name == 'Electra Townie Original 21D - 2016'][\"brand_name\"]"
      ],
      "metadata": {
        "id": "zA0ZYoHrCUSA"
      },
      "execution_count": null,
      "outputs": []
    },
    {
      "cell_type": "markdown",
      "source": [
        "9. il numero di prodotti per ogni anno. Visualizzare l'anno e il numero di prodotti\n"
      ],
      "metadata": {
        "id": "k4bJgf_pChmC"
      }
    },
    {
      "cell_type": "code",
      "source": [
        "products.groupby(\"model_year\")[\"product_name\"].count()"
      ],
      "metadata": {
        "id": "k8SNBawkCijg"
      },
      "execution_count": null,
      "outputs": []
    },
    {
      "cell_type": "code",
      "source": [
        "prodotti_anno = products.groupby(\"model_year\")[\"product_name\"].count()\n",
        "\n",
        "fig = plt.figure(figsize = (12,12))\n",
        "ax = plt.axes()\n",
        "plt.rcParams.update({\"font.size\" : 13})\n",
        "ax.pie(prodotti_anno.values, labels = prodotti_anno.index, autopct = \"%.1f%%\", startangle = 90)\n",
        "plt.show()"
      ],
      "metadata": {
        "id": "OeRglbwpcZZH"
      },
      "execution_count": null,
      "outputs": []
    }
  ]
}