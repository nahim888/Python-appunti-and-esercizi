{
  "nbformat": 4,
  "nbformat_minor": 0,
  "metadata": {
    "colab": {
      "name": "Esercizio join spaziali.ipynb",
      "provenance": [],
      "collapsed_sections": []
    },
    "kernelspec": {
      "name": "python3",
      "display_name": "Python 3"
    },
    "language_info": {
      "name": "python"
    }
  },
  "cells": [
    {
      "cell_type": "code",
      "execution_count": null,
      "metadata": {
        "id": "wXa2oniGDalo"
      },
      "outputs": [],
      "source": [
        "!pip install geopandas\n",
        "import geopandas\n",
        "import pandas as pd\n",
        "!pip install contextily\n",
        "import contextily as ctx"
      ]
    },
    {
      "cell_type": "code",
      "source": [
        "import os\n",
        "!pip install rtree\n",
        "!curl -L http://download.osgeo.org/libspatialindex/spatialindex-src-1.8.5.tar.gz | tar xz\n",
        "os.chdir(\"/content/spatialindex-src-1.8.5\")\n",
        "!./configure\n",
        "!make\n",
        "!make install\n",
        "!ldconfig"
      ],
      "metadata": {
        "id": "lpo9sco6GeL5"
      },
      "execution_count": null,
      "outputs": []
    },
    {
      "cell_type": "markdown",
      "source": [
        "Caricare i geodataframe dei comuni, delle province e delle regioni ed eliminare tutte le colonne ad eccezione di quelle che contengono il nome e la geometria. Utilizzare poi le join spaziali per visualizzare:\n"
      ],
      "metadata": {
        "id": "U0qPhQDcDbFh"
      }
    },
    {
      "cell_type": "code",
      "source": [
        "comuni = geopandas.read_file(\"/content/drive/MyDrive/Colab Notebooks/geopandas-tutorial-master/Limiti01012021_g/Com01012021_g/Com01012021_g_WGS84.dbf\")\n",
        "province = geopandas.read_file(\"/content/drive/MyDrive/Colab Notebooks/geopandas-tutorial-master/Limiti01012021_g/ProvCM01012021_g/ProvCM01012021_g_WGS84.dbf\")\n",
        "regioni = geopandas.read_file(\"/content/drive/MyDrive/Colab Notebooks/geopandas-tutorial-master/Limiti01012021_g/Reg01012021_g/Reg01012021_g_WGS84.dbf\")"
      ],
      "metadata": {
        "id": "2D1hpdiYDuu6"
      },
      "execution_count": null,
      "outputs": []
    },
    {
      "cell_type": "code",
      "source": [
        "comuni = comuni[[\"COMUNE\", \"geometry\"]]\n",
        "province = province[[\"DEN_UTS\", \"geometry\"]]\n",
        "regioni = regioni[[\"DEN_REG\", \"geometry\"]]"
      ],
      "metadata": {
        "id": "Ua59WPUzEZj4"
      },
      "execution_count": null,
      "outputs": []
    },
    {
      "cell_type": "markdown",
      "source": [
        "1. l'elenco dei comuni con le province in cui si trovano\n"
      ],
      "metadata": {
        "id": "KQ7XQS1qFPXo"
      }
    },
    {
      "cell_type": "code",
      "source": [
        "com_prov = geopandas.sjoin(comuni, province, op='within', how='left')\n",
        "com_prov"
      ],
      "metadata": {
        "id": "1dsxEHG7FMeh"
      },
      "execution_count": null,
      "outputs": []
    },
    {
      "cell_type": "markdown",
      "source": [
        "2. l'elenco delle province con le regioni in cui si trovano\n"
      ],
      "metadata": {
        "id": "nPonml8hHZuK"
      }
    },
    {
      "cell_type": "code",
      "source": [
        "prov_reg = geopandas.sjoin(province, regioni, op=\"within\", how=\"left\")\n",
        "prov_reg"
      ],
      "metadata": {
        "id": "JpyjqmR2HcfR"
      },
      "execution_count": null,
      "outputs": []
    },
    {
      "cell_type": "markdown",
      "source": [
        "3. l'elenco dei comuni con le regioni in cui si trovano\n"
      ],
      "metadata": {
        "id": "r4TndEJxH0pC"
      }
    },
    {
      "cell_type": "code",
      "source": [
        "com_reg = geopandas.sjoin(comuni, regioni, op=\"within\", how=\"left\")\n",
        "com_reg"
      ],
      "metadata": {
        "id": "oFdlihHnH1jJ"
      },
      "execution_count": null,
      "outputs": []
    },
    {
      "cell_type": "markdown",
      "source": [
        "4. visualizzare una mappa con le province colorate in base al numero di comuni che hanno\n"
      ],
      "metadata": {
        "id": "7WnpR5NAH-LR"
      }
    },
    {
      "cell_type": "code",
      "source": [
        "prov_com = geopandas.sjoin(province, comuni, op=\"contains\", how=\"left\")\n",
        "num_com_prov = prov_com.groupby(\"DEN_UTS\")[\"COMUNE\"].count().reset_index()\n",
        "num2 = pd.merge(province, num_com_prov, on = \"DEN_UTS\", how=\"left\")\n",
        "\n",
        "ax = num2.to_crs(epsg = 3857).plot(figsize = (20,20), edgecolor = \"k\", column = \"COMUNE\", legend = True, alpha = 0.5)\n",
        "ctx.add_basemap(ax)"
      ],
      "metadata": {
        "id": "bSj05QuCIHhJ"
      },
      "execution_count": null,
      "outputs": []
    },
    {
      "cell_type": "markdown",
      "source": [
        "5. visualizzare una mappa con le regioni colorate in base al numero di province che hanno\n"
      ],
      "metadata": {
        "id": "pt6evOHMUxoc"
      }
    },
    {
      "cell_type": "code",
      "source": [
        "reg_prov = geopandas.sjoin(regioni, province, op=\"contains\", how=\"left\")\n",
        "num_reg_prov = reg_prov.groupby(\"DEN_REG\")[\"DEN_UTS\"].count().reset_index()\n",
        "num3 = pd.merge(regioni, num_reg_prov, on = \"DEN_REG\", how=\"left\")\n",
        "\n",
        "ax = num3.to_crs(epsg = 3857).plot(figsize = (20,20), edgecolor = \"k\", column = \"DEN_UTS\", legend = True, alpha = 0.5)\n",
        "ctx.add_basemap(ax)"
      ],
      "metadata": {
        "id": "ZJyVoF0oUx9r"
      },
      "execution_count": null,
      "outputs": []
    }
  ]
}