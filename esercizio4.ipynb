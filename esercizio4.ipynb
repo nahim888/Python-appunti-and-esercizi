{
  "nbformat": 4,
  "nbformat_minor": 0,
  "metadata": {
    "colab": {
      "name": "esercizio4.ipynb",
      "provenance": [],
      "collapsed_sections": []
    },
    "kernelspec": {
      "name": "python3",
      "display_name": "Python 3"
    },
    "language_info": {
      "name": "python"
    }
  },
  "cells": [
    {
      "cell_type": "markdown",
      "metadata": {
        "id": "dnGDVJy9rhW7"
      },
      "source": [
        "1. scrivere una funzione chiamata media che dati due numeri restituisca la media. Utilizzare poi la funzione in un programma che acquisisca dall'utente due numeri e calcoli la media\n"
      ]
    },
    {
      "cell_type": "code",
      "metadata": {
        "id": "CCQ7vlwksZ20"
      },
      "source": [
        "def media(x,y):\n",
        "  x = int(input(\"Primo numero: \"))\n",
        "  y = int(input(\"Secondo numero: \"))\n",
        "  lamedia = (x+y)/2\n",
        "  print(lamedia)\n",
        "media(x,y)\n",
        "media(a,b)"
      ],
      "execution_count": null,
      "outputs": []
    },
    {
      "cell_type": "markdown",
      "metadata": {
        "id": "uz-Vr56yt8F7"
      },
      "source": [
        "2. scrivere una funzione chiamata piuCorta che date due liste restituisca la lista con meno elementi. Utilizzare poi la funzione in un programma che acquisisca dall'utente due liste e visualizzi gli elementi della lista più corta."
      ]
    },
    {
      "cell_type": "code",
      "metadata": {
        "id": "rOah59Pgt77M"
      },
      "source": [
        "def piuCorta(lista1,lista2):\n",
        "    piuCorta = min(lista1,lista2)\n",
        "    return piuCorta\n",
        "piuCorta(lista1,lista2)\n",
        "\n",
        "lst = []\n",
        "\n",
        "n = int(input(\"Inserisci il numero di elementi: \"))\n",
        "\n",
        "for i in range(0, n):\n",
        "    ele = str(input())\n",
        "    lst.append(ele)\n",
        "print(lst)\n",
        "\n",
        "lst2 = []\n",
        "\n",
        "n2 = int(input(\"Inserisci il numero di elementi: \"))\n",
        "\n",
        "for i in range(0, n2):\n",
        "    ele = str(input())\n",
        "    lst2.append(ele)\n",
        "print(lst2)\n",
        "\n",
        "print(\"La lista più corta è: \")\n",
        "piuCorta(lst,lst2)"
      ],
      "execution_count": null,
      "outputs": []
    },
    {
      "cell_type": "markdown",
      "metadata": {
        "id": "z4qCHbCEy01M"
      },
      "source": [
        "3. scrivere una funzione chiamata costruisciLista che dati due numeri interi restituisca la lista formata da tutti i numeri interi compresi tra i due numeri dati. Utilizzare poi la funzione in un programma che acquisisca dall'utente due numeri e visualizzi la lista formata da tutti i numeri interi compresi tra i due numeri dati ma a partire dal più grande fino al più piccolo."
      ]
    },
    {
      "cell_type": "code",
      "metadata": {
        "colab": {
          "base_uri": "https://localhost:8080/"
        },
        "id": "xByQ4EtDy1ys",
        "outputId": "83c8aeb9-1ea2-4442-a9a7-b0cbeed443d4"
      },
      "source": [
        "def costruisciLista (num1,num2):\n",
        "  if num1>num2:\n",
        "   print(\"Il primo numero deve essere minore del secondo\")\n",
        "  elif num1<num2:\n",
        "   lista=list(range(num1, num2))\n",
        "   print(lista)\n",
        "   print(sorted(lista, reverse=True))\n",
        "\n",
        "num1 = int(input('Inserisci il primo numero: '))\n",
        "num2 = int(input('Inserisci il secondo numero: '))\n",
        "costruisciLista(num1,num2)"
      ],
      "execution_count": null,
      "outputs": [
        {
          "output_type": "stream",
          "name": "stdout",
          "text": [
            "Inserisci il primo numero: 1\n",
            "Inserisci il secondo numero: 5\n",
            "[1, 2, 3, 4]\n",
            "[4, 3, 2, 1]\n"
          ]
        }
      ]
    },
    {
      "cell_type": "markdown",
      "metadata": {
        "id": "6wZFmSH46nW7"
      },
      "source": [
        "4. scrivere una funzione chiamata valoreAssoluto che dato un numero restituisca il suo valore assoluto. Utilizzare poi questa funzione per determinare il valore assoluto degli elementi di una lista inserita dall'utente."
      ]
    },
    {
      "cell_type": "code",
      "metadata": {
        "colab": {
          "base_uri": "https://localhost:8080/"
        },
        "id": "XxuVS42k6of5",
        "outputId": "3f9f6a1f-1840-4af8-fc55-75c617b085a9"
      },
      "source": [
        "def valoreAssoluto (lst):\n",
        "  valabsolute=abs(lst[0])\n",
        "  print(valabsolute)\n",
        "\n",
        "lst = []\n",
        "n = int(input(\"Inserisci il numero di elementi: \"))\n",
        "for i in range(0, n):\n",
        "    ele = float(input())\n",
        "    lst.append(ele)\n",
        "print(lst)\n",
        "valoreAssoluto(lst)"
      ],
      "execution_count": null,
      "outputs": [
        {
          "output_type": "stream",
          "name": "stdout",
          "text": [
            "Inserisci il numero di elementi: 1\n",
            "-4\n",
            "[-4.0]\n",
            "4.0\n"
          ]
        }
      ]
    },
    {
      "cell_type": "markdown",
      "metadata": {
        "id": "uPNY4CXQB7cN"
      },
      "source": [
        "5. scrivere una funzione chiamata scambia che data una lista scambi il primo elemento con l'ultimo, il secondo con il penultimo e così via. Utilizzare poi la funzione in un programma che acquisisca dall'utente una lista di 10 elementi e li visualizzi scambiati.\n"
      ]
    },
    {
      "cell_type": "code",
      "metadata": {
        "id": "pn1MmA0gB8fs",
        "colab": {
          "base_uri": "https://localhost:8080/"
        },
        "outputId": "607ff308-33bc-466c-8254-265ac79f0f18"
      },
      "source": [
        "def scambia(lista):\n",
        "  for i in lista:\n",
        "    lista.reverse()\n",
        "    print(lista)\n",
        "lista2 = [1,2,3,4,5,6,7,8,9,10]\n",
        "scambia(lista2)"
      ],
      "execution_count": 1,
      "outputs": [
        {
          "output_type": "stream",
          "name": "stdout",
          "text": [
            "[10, 9, 8, 7, 6, 5, 4, 3, 2, 1]\n",
            "[1, 2, 3, 4, 5, 6, 7, 8, 9, 10]\n",
            "[10, 9, 8, 7, 6, 5, 4, 3, 2, 1]\n",
            "[1, 2, 3, 4, 5, 6, 7, 8, 9, 10]\n",
            "[10, 9, 8, 7, 6, 5, 4, 3, 2, 1]\n",
            "[1, 2, 3, 4, 5, 6, 7, 8, 9, 10]\n",
            "[10, 9, 8, 7, 6, 5, 4, 3, 2, 1]\n",
            "[1, 2, 3, 4, 5, 6, 7, 8, 9, 10]\n",
            "[10, 9, 8, 7, 6, 5, 4, 3, 2, 1]\n",
            "[1, 2, 3, 4, 5, 6, 7, 8, 9, 10]\n"
          ]
        }
      ]
    },
    {
      "cell_type": "markdown",
      "metadata": {
        "id": "lLV_FuKGCB18"
      },
      "source": [
        "6. scrivere una funzione lambda che dati due numeri calcoli la loro somma. Utilizzare la funzione in un programma che chieda all'utente due numeri interi e visualizzi la loro somma.\n"
      ]
    },
    {
      "cell_type": "code",
      "metadata": {
        "id": "TlSXIf6oCCPM",
        "colab": {
          "base_uri": "https://localhost:8080/"
        },
        "outputId": "83b3789b-31c6-4f63-a4ed-a9c0f7cb929e"
      },
      "source": [
        "lam = lambda x,y: x + y\n",
        "lam(int(input('Scegli il primo numero: ')), int(input('Scegli il primo numero: ')))"
      ],
      "execution_count": 5,
      "outputs": [
        {
          "name": "stdout",
          "output_type": "stream",
          "text": [
            "Scegli il primo numero: 2\n",
            "Scegli il primo numero: 75\n"
          ]
        },
        {
          "output_type": "execute_result",
          "data": {
            "text/plain": [
              "77"
            ]
          },
          "metadata": {},
          "execution_count": 5
        }
      ]
    },
    {
      "cell_type": "markdown",
      "metadata": {
        "id": "JdpPio5p9a6S"
      },
      "source": [
        "7. scrivere un programma che utilizzi una lambda function per aumentare di 10 unità tutti gli elementi di una lista di interi inserita dall'utente."
      ]
    },
    {
      "cell_type": "code",
      "metadata": {
        "id": "RqXuVO2e9drJ"
      },
      "source": [
        "lst1 = []\n",
        "n = int(input(\"Inserisci il numero di elementi: \"))\n",
        "\n",
        "for i in range(0, n):\n",
        "    ele = int(input())\n",
        "    lst1.append(ele)\n",
        "\n",
        "print(lst1)\n",
        "lista =list(map(lambda x: x + 10, lst1))\n",
        "print(lista)"
      ],
      "execution_count": null,
      "outputs": []
    },
    {
      "cell_type": "markdown",
      "metadata": {
        "id": "2p3WS3eo92RV"
      },
      "source": [
        "8. scrivere una funzione lambda che sostituisca il valore 0 se il parametro è negativo, il valore del parametro se è positivo. Utilizzare poi la funzione in un programma che chieda all'utente i 10 elementi di una lista e visualizzi la lista con il valore 0 al posto dei numeri negativi.\n"
      ]
    },
    {
      "cell_type": "code",
      "metadata": {
        "id": "vvctyeTY94vn"
      },
      "source": [
        "lst1 = []\n",
        "for i in range(0, 10):\n",
        "    ele = int(input())\n",
        "    lst1.append(ele)\n",
        "lista1 = lst1\n",
        "for i in lista1:\n",
        "  n = lst1[i]\n",
        "  if n < 0:\n",
        "    lista1[n] = 0\n",
        "\n",
        "print(lista1)\n"
      ],
      "execution_count": null,
      "outputs": []
    },
    {
      "cell_type": "markdown",
      "metadata": {
        "id": "PBOZv-7m9-R2"
      },
      "source": [
        ""
      ]
    },
    {
      "cell_type": "code",
      "metadata": {
        "colab": {
          "base_uri": "https://localhost:8080/"
        },
        "id": "tQdKJcFo9-gQ",
        "outputId": "9fe18c2f-f56e-42e4-8bda-32f080df39b6"
      },
      "source": [
        "a = lambda num : 1 if num <= 1 else num*a(num-1)\n",
        "number = int(input('Numero: '))\n",
        "print( '%d != %d' %(number, a(number)))"
      ],
      "execution_count": 13,
      "outputs": [
        {
          "output_type": "stream",
          "name": "stdout",
          "text": [
            "Numero: 12\n",
            "12 != 479001600\n"
          ]
        }
      ]
    }
  ]
}