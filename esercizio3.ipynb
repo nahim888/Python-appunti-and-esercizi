{
  "nbformat": 4,
  "nbformat_minor": 0,
  "metadata": {
    "colab": {
      "name": "esercizio3.ipynb",
      "provenance": [],
      "collapsed_sections": []
    },
    "kernelspec": {
      "name": "python3",
      "display_name": "Python 3"
    },
    "language_info": {
      "name": "python"
    }
  },
  "cells": [
    {
      "cell_type": "markdown",
      "metadata": {
        "id": "bZZZP_pJw5TR"
      },
      "source": [
        "Scrivere un programma che crei un dizionario contenente i nomi delle regioni e i nomi dei loro\n",
        "capoluoghi. Il nome della regione deve essere il campo chiave. Chiamare il dizionario\n",
        "capoluoghiRegione"
      ]
    },
    {
      "cell_type": "code",
      "metadata": {
        "colab": {
          "base_uri": "https://localhost:8080/"
        },
        "id": "RYq9Rg2xw7sn",
        "outputId": "6fe0c7dc-1929-40c6-88b7-31aada6b845d"
      },
      "source": [
        "capoluoghiRegione={\"Abruzzo\" : \"L'Aquila\", \"Basilicata\" : \"Potenza\", \"Calabria\" : \"Catanzaro\", \"Campania\" : \"Napoli\", \"Emilia-Romagna\" : \"Bologna\", \"Friuli-Venezia Giulia\": \"Trieste\", \"Lazio\" : \"Roma\", \"Liguria\" : \"Genova\", \"Lombardia\" : \"Milano\", \"Marche\" : \"Ancona\", \"Molise\" : \"Campobasso\", \"Piemonte\" : \"Torino\", \"Puglia\" : \"Bari\", \"Sardegna\" : \"Cagliari\", \"Sicilia\" : \"Palermo\", \"Toscana\" : \"Firenze\", \"Trentino-Alto Adige\" : \"Trento\", \"Umbria\" : \"Perugia\", \"Valle D'Aosta\" : \"Aosta\", \"Veneto\" : \"Venezia\"}\n",
        "print(capoluoghiRegione)"
      ],
      "execution_count": null,
      "outputs": [
        {
          "output_type": "stream",
          "name": "stdout",
          "text": [
            "{'Abruzzo': \"L'Aquila\", 'Basilicata': 'Potenza', 'Calabria': 'Catanzaro', 'Campania': 'Napoli', 'Emilia-Romagna': 'Bologna', 'Friuli-Venezia Giulia': 'Trieste', 'Lazio': 'Roma', 'Liguria': 'Genova', 'Lombardia': 'Milano', 'Marche': 'Ancona', 'Molise': 'Campobasso', 'Piemonte': 'Torino', 'Puglia': 'Bari', 'Sardegna': 'Cagliari', 'Sicilia': 'Palermo', 'Toscana': 'Firenze', 'Trentino-Alto Adige': 'Trento', 'Umbria': 'Perugia', \"Valle D'Aosta\": 'Aosta', 'Veneto': 'Venezia'}\n"
          ]
        }
      ]
    },
    {
      "cell_type": "markdown",
      "metadata": {
        "id": "GBbr9hNgysqu"
      },
      "source": [
        "Scrivere un programma che visualizzi tutti i nomi delle regioni presenti in capoluoghiRegione"
      ]
    },
    {
      "cell_type": "code",
      "metadata": {
        "colab": {
          "base_uri": "https://localhost:8080/"
        },
        "id": "Mea-N9iWytym",
        "outputId": "81b0fdfa-119d-45c5-806a-2bc674ba1cb3"
      },
      "source": [
        "print({k for k in capoluoghiRegione.keys()})"
      ],
      "execution_count": null,
      "outputs": [
        {
          "output_type": "stream",
          "name": "stdout",
          "text": [
            "{'Veneto', 'Abruzzo', 'Lombardia', 'Calabria', 'Basilicata', 'Umbria', 'Emilia-Romagna', 'Lazio', 'Piemonte', 'Friuli-Venezia Giulia', 'Toscana', 'Molise', 'Sicilia', 'Liguria', \"Valle D'Aosta\", 'Puglia', 'Trentino-Alto Adige', 'Campania', 'Marche', 'Sardegna'}\n"
          ]
        }
      ]
    },
    {
      "cell_type": "markdown",
      "metadata": {
        "id": "zEXx_cZb0ZrC"
      },
      "source": [
        "Scrivere un programma che visualizzi tutti i nomi dei capoluoghi di regione presenti in\n",
        "capoluoghiRegione"
      ]
    },
    {
      "cell_type": "code",
      "metadata": {
        "colab": {
          "base_uri": "https://localhost:8080/"
        },
        "id": "rKyqis5y0Z-b",
        "outputId": "77fece69-1425-4205-a84b-0db19b08e7a2"
      },
      "source": [
        "print({v for v in capoluoghiRegione.values()})"
      ],
      "execution_count": null,
      "outputs": [
        {
          "output_type": "stream",
          "name": "stdout",
          "text": [
            "{'Cagliari', 'Venezia', 'Campobasso', 'Trieste', 'Palermo', 'Torino', 'Bari', 'Aosta', 'Bologna', 'Firenze', \"L'Aquila\", 'Genova', 'Roma', 'Ancona', 'Milano', 'Catanzaro', 'Trento', 'Potenza', 'Napoli', 'Perugia'}\n"
          ]
        }
      ]
    },
    {
      "cell_type": "markdown",
      "metadata": {
        "id": "XVpf9d6k0jLq"
      },
      "source": [
        "Scrivere un programma che acquisisca dall’utente il nome di una regione e fornisca il nome del suo\n",
        "capoluogo."
      ]
    },
    {
      "cell_type": "code",
      "metadata": {
        "colab": {
          "base_uri": "https://localhost:8080/"
        },
        "id": "IBYensKF0reQ",
        "outputId": "ac802992-0ab6-4810-e2ee-584b52dcbd65"
      },
      "source": [
        "regione = input(\"Inserisci nome della regione: \")\n",
        "print(capoluoghiRegione[regione])"
      ],
      "execution_count": null,
      "outputs": [
        {
          "output_type": "stream",
          "name": "stdout",
          "text": [
            "Inserisci nome della regione: Veneto\n",
            "Venezia\n"
          ]
        }
      ]
    },
    {
      "cell_type": "markdown",
      "metadata": {
        "id": "bX1ObZKo0-ZR"
      },
      "source": [
        "Scrivere un programma che acquisisca dall’utente il nome di un capoluogo e fornisca il nome della\n",
        "regione a cui appartiene."
      ]
    },
    {
      "cell_type": "code",
      "metadata": {
        "id": "uRzq6rsyKkgz"
      },
      "source": [
        ""
      ],
      "execution_count": null,
      "outputs": []
    },
    {
      "cell_type": "markdown",
      "metadata": {
        "id": "HOHCnhn22kqn"
      },
      "source": [
        "Scrivere un programma che visualizzi tutte le regioni con i rispettivi capoluoghi"
      ]
    },
    {
      "cell_type": "code",
      "metadata": {
        "colab": {
          "base_uri": "https://localhost:8080/"
        },
        "id": "M5VTxYmn2lPX",
        "outputId": "dee133bd-ee00-48ca-fb14-dcf546dad2a7"
      },
      "source": [
        "capoluoghiRegione={\"Abruzzo\" : \"L'Aquila\", \"Basilicata\" : \"Potenza\", \"Calabria\" : \"Catanzaro\", \"Campania\" : \"Napoli\", \"Emilia-Romagna\" : \"Bologna\", \"Friuli-Venezia Giulia\": \"Trieste\", \"Lazio\" : \"Roma\", \"Liguria\" : \"Genova\", \"Lombardia\" : \"Milano\", \"Marche\" : \"Ancona\", \"Molise\" : \"Campobasso\", \"Piemonte\" : \"Torino\", \"Puglia\" : \"Bari\", \"Sardegna\" : \"Cagliari\", \"Sicilia\" : \"Palermo\", \"Toscana\" : \"Firenze\", \"Trentino-Alto Adige\" : \"Trento\", \"Umbria\" : \"Perugia\", \"Valle D'Aosta\" : \"Aosta\", \"Veneto\" : \"Venezia\"}\n",
        "print(capoluoghiRegione)"
      ],
      "execution_count": null,
      "outputs": [
        {
          "output_type": "stream",
          "name": "stdout",
          "text": [
            "{'Abruzzo': \"L'Aquila\", 'Basilicata': 'Potenza', 'Calabria': 'Catanzaro', 'Campania': 'Napoli', 'Emilia-Romagna': 'Bologna', 'Friuli-Venezia Giulia': 'Trieste', 'Lazio': 'Roma', 'Liguria': 'Genova', 'Lombardia': 'Milano', 'Marche': 'Ancona', 'Molise': 'Campobasso', 'Piemonte': 'Torino', 'Puglia': 'Bari', 'Sardegna': 'Cagliari', 'Sicilia': 'Palermo', 'Toscana': 'Firenze', 'Trentino-Alto Adige': 'Trento', 'Umbria': 'Perugia', \"Valle D'Aosta\": 'Aosta', 'Veneto': 'Venezia'}\n"
          ]
        }
      ]
    },
    {
      "cell_type": "markdown",
      "metadata": {
        "id": "eX7ExJ0F2x0l"
      },
      "source": [
        "Scrivere un programma che visualizzi tutte le regioni con i rispettivi capoluoghi. Ordinare le regioni\n",
        "in ordine alfabetico"
      ]
    },
    {
      "cell_type": "code",
      "metadata": {
        "colab": {
          "base_uri": "https://localhost:8080/"
        },
        "id": "acqm7odv48MM",
        "outputId": "0254e309-7c95-4e4a-a0ff-56a74d43e879"
      },
      "source": [
        "dictionary_items = capoluoghiRegione.items()\n",
        "sorted_items = sorted(dictionary_items)\n",
        "print(sorted_items)"
      ],
      "execution_count": null,
      "outputs": [
        {
          "output_type": "stream",
          "name": "stdout",
          "text": [
            "[('Abruzzo', \"L'Aquila\"), ('Basilicata', 'Potenza'), ('Calabria', 'Catanzaro'), ('Campania', 'Napoli'), ('Emilia-Romagna', 'Bologna'), ('Friuli-Venezia Giulia', 'Trieste'), ('Lazio', 'Roma'), ('Liguria', 'Genova'), ('Lombardia', 'Milano'), ('Marche', 'Ancona'), ('Molise', 'Campobasso'), ('Piemonte', 'Torino'), ('Puglia', 'Bari'), ('Sardegna', 'Cagliari'), ('Sicilia', 'Palermo'), ('Toscana', 'Firenze'), ('Trentino-Alto Adige', 'Trento'), ('Umbria', 'Perugia'), (\"Valle D'Aosta\", 'Aosta'), ('Veneto', 'Venezia')]\n"
          ]
        }
      ]
    },
    {
      "cell_type": "markdown",
      "metadata": {
        "id": "0siCTubD5WQb"
      },
      "source": [
        "Scrivere un programma che visualizzi tutte le regioni con i rispettivi capoluoghi. Ordinare i\n",
        "capoluoghi in ordine alfabetico"
      ]
    },
    {
      "cell_type": "code",
      "metadata": {
        "colab": {
          "base_uri": "https://localhost:8080/"
        },
        "id": "H6h8a2lK6L8J",
        "outputId": "88ade749-7840-4e53-c457-da0c481981bf"
      },
      "source": [
        "sorted_values = sorted(capoluoghiRegione.values())\n",
        "sorted_dict = {}\n",
        "\n",
        "for i in sorted_values:\n",
        "    for k in capoluoghiRegione.keys():\n",
        "        if capoluoghiRegione[k] == i:\n",
        "            sorted_dict[k] = capoluoghiRegione[k]\n",
        "            break\n",
        "\n",
        "print(sorted_dict)"
      ],
      "execution_count": null,
      "outputs": [
        {
          "output_type": "stream",
          "name": "stdout",
          "text": [
            "{'Marche': 'Ancona', \"Valle D'Aosta\": 'Aosta', 'Puglia': 'Bari', 'Emilia-Romagna': 'Bologna', 'Sardegna': 'Cagliari', 'Molise': 'Campobasso', 'Calabria': 'Catanzaro', 'Toscana': 'Firenze', 'Liguria': 'Genova', 'Abruzzo': \"L'Aquila\", 'Lombardia': 'Milano', 'Campania': 'Napoli', 'Sicilia': 'Palermo', 'Umbria': 'Perugia', 'Basilicata': 'Potenza', 'Lazio': 'Roma', 'Piemonte': 'Torino', 'Trentino-Alto Adige': 'Trento', 'Friuli-Venezia Giulia': 'Trieste', 'Veneto': 'Venezia'}\n"
          ]
        }
      ]
    },
    {
      "cell_type": "markdown",
      "metadata": {
        "id": "p1LJ5ilZ6ivH"
      },
      "source": [
        "Scrivere un programma che carichi in una lista i nomi delle regioni e in un’altra lista i nomi dei\n",
        "rispettivi capoluoghi. Scrivere poi l’istruzione che permette di costruire il dizionario a partire dalle\n",
        "due liste."
      ]
    },
    {
      "cell_type": "code",
      "metadata": {
        "id": "-Kr2yAcX6jDD",
        "colab": {
          "base_uri": "https://localhost:8080/"
        },
        "outputId": "721b6a68-ed0c-48ff-fe74-2a0764c9ed7e"
      },
      "source": [
        "regioni = [\"Abruzzo\", \"Basilicata\", \"Calabria\", \"Campania\", \"Emilia-Romagna\", \"Friuli-Venezia Giulia\", \"Lazio\", \"Liguria\", \"Lombardia\", \"Marche\", \"Molise\", \"Piemonte\", \"Puglia\", \"Sardegna\", \"Sicilia\", \"Toscana\", \"Trentino-Alto Adige\", \"Umbria\", \"Valle d'Aosta\", \"Veneto\"]\n",
        "capoluoghi=[\"L'Aquila\", \"Potenza\", \"Catanzaro\", \"Napoli\", \"Bologna\", \"Trieste\", \"Roma\", \"Genova\", \"Milano\", \"Ancona\", \"Campobasso\", \"Torino\", \"Bari\", \"Cagliari\", \"Palermo\", \"Firenze\", \"Trento\", \"Perugia\", \"Aosta\", \"Venezia\"]\n",
        "[ (regioni,capoluoghi) for regioni,capoluoghi in zip(regioni,capoluoghi)]\n",
        "capoluoghiRegione2 = dict((regioni,capoluoghi) for regioni,capoluoghi in zip(regioni,capoluoghi))\n",
        "print(capoluoghiRegione2) "
      ],
      "execution_count": null,
      "outputs": [
        {
          "output_type": "stream",
          "name": "stdout",
          "text": [
            "{'Abruzzo': \"L'Aquila\", 'Basilicata': 'Potenza', 'Calabria': 'Catanzaro', 'Campania': 'Napoli', 'Emilia-Romagna': 'Bologna', 'Friuli-Venezia Giulia': 'Trieste', 'Lazio': 'Roma', 'Liguria': 'Genova', 'Lombardia': 'Milano', 'Marche': 'Ancona', 'Molise': 'Campobasso', 'Piemonte': 'Torino', 'Puglia': 'Bari', 'Sardegna': 'Cagliari', 'Sicilia': 'Palermo', 'Toscana': 'Firenze', 'Trentino-Alto Adige': 'Trento', 'Umbria': 'Perugia', \"Valle d'Aosta\": 'Aosta', 'Veneto': 'Venezia'}\n"
          ]
        }
      ]
    }
  ]
}