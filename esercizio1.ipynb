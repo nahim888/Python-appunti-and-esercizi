{
  "nbformat": 4,
  "nbformat_minor": 0,
  "metadata": {
    "colab": {
      "name": "esercizio1.ipynb",
      "provenance": [],
      "collapsed_sections": []
    },
    "kernelspec": {
      "name": "python3",
      "display_name": "Python 3"
    },
    "language_info": {
      "name": "python"
    }
  },
  "cells": [
    {
      "cell_type": "markdown",
      "metadata": {
        "id": "EOji_PFHhWZd"
      },
      "source": [
        "a. far inserire all'utente due valori interi"
      ]
    },
    {
      "cell_type": "code",
      "metadata": {
        "id": "9ioVzBnnhaad"
      },
      "source": [
        "a= 10\n",
        "b= 5 "
      ],
      "execution_count": 16,
      "outputs": []
    },
    {
      "cell_type": "markdown",
      "metadata": {
        "id": "iogNtgjIhcSN"
      },
      "source": [
        "b. effettuare le 4 operazioni aritmetiche tra i due numeri"
      ]
    },
    {
      "cell_type": "code",
      "metadata": {
        "colab": {
          "base_uri": "https://localhost:8080/"
        },
        "id": "miWpBV0qhp-M",
        "outputId": "65c8b800-2244-4d66-beaa-23c84b898fe8"
      },
      "source": [
        "somma= a+b\n",
        "differenza= a-b\n",
        "moltiplicazione= a*b\n",
        "divisione= a/b\n",
        "print(\"La somma è: \" + str(somma))\n",
        "print(\"La differenza è: \" + str(differenza))\n",
        "print(\"La moltiplicazione è: \" + str(moltiplicazione))\n",
        "print(\"La divisione è: \" + str(divisione))"
      ],
      "execution_count": 18,
      "outputs": [
        {
          "output_type": "stream",
          "name": "stdout",
          "text": [
            "La somma è: 15\n",
            "La differenza è: 5\n",
            "La moltiplicazione è: 50\n",
            "La divisione è: 2.0\n"
          ]
        }
      ]
    },
    {
      "cell_type": "markdown",
      "metadata": {
        "id": "VW9B9YvZiA36"
      },
      "source": [
        "c. effettuare l'elevamento a potenza del primo numero per il secondo"
      ]
    },
    {
      "cell_type": "code",
      "metadata": {
        "colab": {
          "base_uri": "https://localhost:8080/"
        },
        "id": "9zi7BCFNiDfc",
        "outputId": "89fe8455-2e75-4498-ca53-060a907d1050"
      },
      "source": [
        "potenza = pow (a,b)\n",
        "print (\"L'elevamento a potenza è \" + str(potenza))"
      ],
      "execution_count": 19,
      "outputs": [
        {
          "output_type": "stream",
          "name": "stdout",
          "text": [
            "L'elevamento a potenza è 100000\n"
          ]
        }
      ]
    },
    {
      "cell_type": "markdown",
      "metadata": {
        "id": "5fQz-22Sid66"
      },
      "source": [
        "d. effettuare il calcolo del resto della divisione tra il primo e il secondo numero"
      ]
    },
    {
      "cell_type": "code",
      "metadata": {
        "colab": {
          "base_uri": "https://localhost:8080/"
        },
        "id": "JvpJDntVifoR",
        "outputId": "c829b469-077e-4342-ff3a-33bb9f450207"
      },
      "source": [
        "resto = a%b\n",
        "print (\"Il resto della divisione è \" + str(resto))"
      ],
      "execution_count": 20,
      "outputs": [
        {
          "output_type": "stream",
          "name": "stdout",
          "text": [
            "Il resto della divisione è 0\n"
          ]
        }
      ]
    },
    {
      "cell_type": "markdown",
      "metadata": {
        "id": "09MUytGbiuh5"
      },
      "source": [
        "f. effettuare la divisione intera tra il primo e il secondo numero"
      ]
    },
    {
      "cell_type": "code",
      "metadata": {
        "colab": {
          "base_uri": "https://localhost:8080/"
        },
        "id": "bp0xIEfQlIi6",
        "outputId": "c4759b2a-8eeb-476d-98c5-5b5d2462b0c6"
      },
      "source": [
        "divint = a//b\n",
        "print (\"La divisione intera è \" + str(divint))"
      ],
      "execution_count": 21,
      "outputs": [
        {
          "output_type": "stream",
          "name": "stdout",
          "text": [
            "La divisione intera è 2\n"
          ]
        }
      ]
    },
    {
      "cell_type": "markdown",
      "metadata": {
        "id": "KCApnD3yjdPx"
      },
      "source": [
        "g. incrementare di una unità entrambi i numeri\n"
      ]
    },
    {
      "cell_type": "code",
      "metadata": {
        "colab": {
          "base_uri": "https://localhost:8080/"
        },
        "id": "ef8of6gOkFI8",
        "outputId": "1a3077fb-da1e-41a7-dc50-d70f48fe4357"
      },
      "source": [
        "ainc = a+1\n",
        "binc = b+1\n",
        "print (\"a incrementato di 1 è \" + str(ainc))\n",
        "print (\"b incrementato di 1 è \" + str(binc))"
      ],
      "execution_count": 22,
      "outputs": [
        {
          "output_type": "stream",
          "name": "stdout",
          "text": [
            "a incrementato di 1 è 11\n",
            "b incrementato di 1 è 6\n"
          ]
        }
      ]
    },
    {
      "cell_type": "markdown",
      "metadata": {
        "id": "KJEj_3xSkky5"
      },
      "source": [
        "h. far inserie all'utente due valori: il primo rappresenta la sua altezza (in metri) e il secondo rappresenta il suo peso (in kg). Visualizzare poi l'IMC (google it...)"
      ]
    },
    {
      "cell_type": "code",
      "metadata": {
        "colab": {
          "base_uri": "https://localhost:8080/"
        },
        "id": "-cVrqOSoloLG",
        "outputId": "6a041fab-7b9b-47ab-d23c-2908f3ad6b24"
      },
      "source": [
        "h = 1.65\n",
        "kg = 60\n",
        "IMC = (kg/(h*h))\n",
        "print (\"La tua altezza è \" + str(h))\n",
        "print (\"Il tuo peso è \" + str(kg))\n",
        "print (\"Il tuo indice di massa corporea è \" + str(IMC))"
      ],
      "execution_count": 23,
      "outputs": [
        {
          "output_type": "stream",
          "name": "stdout",
          "text": [
            "La tua altezza è 1.65\n",
            "Il tuo peso è 60\n",
            "Il tuo indice di massa corporea è 22.03856749311295\n"
          ]
        }
      ]
    },
    {
      "cell_type": "markdown",
      "metadata": {
        "id": "03TCFOOtnDnj"
      },
      "source": [
        "i. arrotondare l'IMC precedente\n"
      ]
    },
    {
      "cell_type": "code",
      "metadata": {
        "colab": {
          "base_uri": "https://localhost:8080/"
        },
        "id": "AHjPxqm5n7Gs",
        "outputId": "e3424bc7-2f13-424c-dcb7-f372e32b2404"
      },
      "source": [
        "print (\"Il tuo indice di massa corporea arrotondato è \" + str(round(IMC)))"
      ],
      "execution_count": 24,
      "outputs": [
        {
          "output_type": "stream",
          "name": "stdout",
          "text": [
            "Il tuo indice di massa corporea arrotondato è 22\n"
          ]
        }
      ]
    },
    {
      "cell_type": "markdown",
      "metadata": {
        "id": "XvKA6t3-oUfO"
      },
      "source": [
        "j. visualizzare il proprio nome, cognome, data di nascita e città di nascita separando le informazioni con un trattino"
      ]
    },
    {
      "cell_type": "code",
      "metadata": {
        "colab": {
          "base_uri": "https://localhost:8080/"
        },
        "id": "u_FHtnRQoU6W",
        "outputId": "0cc425bb-7c4e-4d37-e7dc-77e9c961e84f"
      },
      "source": [
        "id= (\"Nome: Nahim - Cognome: Ahmed - Data di nascita: 05/10/2005 - Città di nascita: Milano\")\n",
        "print (id)"
      ],
      "execution_count": 25,
      "outputs": [
        {
          "output_type": "stream",
          "name": "stdout",
          "text": [
            "Nome: Nahim - Cognome: Ahmed - Data di nascita: 05/10/2005 - Città di nascita: Milano\n"
          ]
        }
      ]
    },
    {
      "cell_type": "markdown",
      "metadata": {
        "id": "yxAHJf74t3PZ"
      },
      "source": [
        "k. visualizzare le stesse informazioni per 10 volte di seguito"
      ]
    },
    {
      "cell_type": "code",
      "metadata": {
        "colab": {
          "base_uri": "https://localhost:8080/"
        },
        "id": "DOhlC90bt4kQ",
        "outputId": "6266a853-78cf-4edd-9182-c92da60fb58f"
      },
      "source": [
        "print (id*10)"
      ],
      "execution_count": 26,
      "outputs": [
        {
          "output_type": "stream",
          "name": "stdout",
          "text": [
            "Nome: Nahim - Cognome: Ahmed - Data di nascita: 05/10/2005 - Città di nascita: MilanoNome: Nahim - Cognome: Ahmed - Data di nascita: 05/10/2005 - Città di nascita: MilanoNome: Nahim - Cognome: Ahmed - Data di nascita: 05/10/2005 - Città di nascita: MilanoNome: Nahim - Cognome: Ahmed - Data di nascita: 05/10/2005 - Città di nascita: MilanoNome: Nahim - Cognome: Ahmed - Data di nascita: 05/10/2005 - Città di nascita: MilanoNome: Nahim - Cognome: Ahmed - Data di nascita: 05/10/2005 - Città di nascita: MilanoNome: Nahim - Cognome: Ahmed - Data di nascita: 05/10/2005 - Città di nascita: MilanoNome: Nahim - Cognome: Ahmed - Data di nascita: 05/10/2005 - Città di nascita: MilanoNome: Nahim - Cognome: Ahmed - Data di nascita: 05/10/2005 - Città di nascita: MilanoNome: Nahim - Cognome: Ahmed - Data di nascita: 05/10/2005 - Città di nascita: Milano\n"
          ]
        }
      ]
    },
    {
      "cell_type": "markdown",
      "metadata": {
        "id": "QxSyjhKSwmA8"
      },
      "source": [
        "l. assegnare il proprio nome e cognome ad una stringa e visualizzarla con tutte\n",
        "le lettere maiuscole\n"
      ]
    },
    {
      "cell_type": "code",
      "metadata": {
        "colab": {
          "base_uri": "https://localhost:8080/"
        },
        "id": "htryQ10RwnEv",
        "outputId": "05c95002-83bb-41e2-b4f7-b52c3ed7746f"
      },
      "source": [
        "s= \"Nahim Ahmed\"\n",
        "print(\"upper: '%s'\"%s.upper())"
      ],
      "execution_count": 27,
      "outputs": [
        {
          "output_type": "stream",
          "name": "stdout",
          "text": [
            "upper: 'NAHIM AHMED'\n"
          ]
        }
      ]
    },
    {
      "cell_type": "markdown",
      "metadata": {
        "id": "tr1Em8WuxNIe"
      },
      "source": [
        "m. assegnare il proprio nome e cognome ad una stringa e visualizzarla con le prime lettere maiuscole\n"
      ]
    },
    {
      "cell_type": "code",
      "metadata": {
        "id": "DGD3IN6rxOe9",
        "colab": {
          "base_uri": "https://localhost:8080/"
        },
        "outputId": "77025a35-8182-4b59-f621-7cac9fb800a6"
      },
      "source": [
        "o=\"NAHIM\"\n",
        "p=\"AHMED\"\n",
        "print(o.capitalize(), p.capitalize())"
      ],
      "execution_count": 29,
      "outputs": [
        {
          "output_type": "stream",
          "name": "stdout",
          "text": [
            "Nahim Ahmed\n"
          ]
        }
      ]
    },
    {
      "cell_type": "markdown",
      "metadata": {
        "id": "qr8Xsi_q0Glq"
      },
      "source": [
        "n. assegnare il proprio nome e cognome ad una stringa e visualizzarne la lunghezza\n"
      ]
    },
    {
      "cell_type": "code",
      "metadata": {
        "colab": {
          "base_uri": "https://localhost:8080/"
        },
        "id": "EF-h9D240IDi",
        "outputId": "ed4ff12f-c7f4-4c39-898a-a893a699f14b"
      },
      "source": [
        "s= \"Nahim Ahmed\"\n",
        "print(\"La lunghezza di '%s' è\"%s,len(s),\"caratteri\")"
      ],
      "execution_count": null,
      "outputs": [
        {
          "output_type": "stream",
          "name": "stdout",
          "text": [
            "La lunghezza di 'Nahim Ahmed' è 11 caratteri\n"
          ]
        }
      ]
    },
    {
      "cell_type": "markdown",
      "metadata": {
        "id": "VH5TsV7U2E8l"
      },
      "source": [
        "o. assegnare il proprio nome e cognome ad una stringa e contate quante vocali contiene\n"
      ]
    },
    {
      "cell_type": "code",
      "metadata": {
        "colab": {
          "base_uri": "https://localhost:8080/"
        },
        "id": "a6U3v29x2GnM",
        "outputId": "20515ff0-116d-4a2f-d94b-495ce388370b"
      },
      "source": [
        "s=\"Nahim Ahmed\"\n",
        "vocali=0\n",
        "for i in s:\n",
        "  if(i==\"a\" or i==\"e\" or i==\"i\" or i==\"o\" or i==\"u\" or i==\"A\" or i==\"E\" or i==\"I\" or i==\"O\" or i==\"U\"):\n",
        "    vocali=vocali+1\n",
        "    print(\"Il numero di vocali è:\" + str(vocali))"
      ],
      "execution_count": 13,
      "outputs": [
        {
          "output_type": "stream",
          "name": "stdout",
          "text": [
            "Il numero di vocali è:1\n",
            "Il numero di vocali è:2\n",
            "Il numero di vocali è:3\n",
            "Il numero di vocali è:4\n"
          ]
        }
      ]
    },
    {
      "cell_type": "markdown",
      "metadata": {
        "id": "drJNYis74oiS"
      },
      "source": [
        "p. assegnare il proprio nome e cognome ad una stringa e visualizzare i primi 5 caratteri\n"
      ]
    },
    {
      "cell_type": "code",
      "metadata": {
        "colab": {
          "base_uri": "https://localhost:8080/"
        },
        "id": "HxFtNdv440jp",
        "outputId": "b0942f2b-3bf7-44d0-a55c-cff0f8aba52b"
      },
      "source": [
        "s=\"Nahim Ahmed\"\n",
        "print(\"I primi 5 caratteri sono:\",s[0:5])"
      ],
      "execution_count": null,
      "outputs": [
        {
          "output_type": "stream",
          "name": "stdout",
          "text": [
            "I primi 5 caratteri sono: Nahim\n"
          ]
        }
      ]
    },
    {
      "cell_type": "markdown",
      "metadata": {
        "id": "PL9W2fG64966"
      },
      "source": [
        "q. assegnare il proprio nome e cognome ad una stringa e visualizzare gli ultimi 5 caratteri\n"
      ]
    },
    {
      "cell_type": "code",
      "metadata": {
        "colab": {
          "base_uri": "https://localhost:8080/"
        },
        "id": "OLIdooHF4-ap",
        "outputId": "9b7a93b1-8f4a-40b2-a2fa-f4342bd48f88"
      },
      "source": [
        "s=\"Nahim Ahmed\"\n",
        "print(\"Gli ultimi 5 caratteri sono\", s[-5:]) "
      ],
      "execution_count": null,
      "outputs": [
        {
          "output_type": "stream",
          "name": "stdout",
          "text": [
            "Gli ultimi 5 caratteri sono Ahmed\n"
          ]
        }
      ]
    },
    {
      "cell_type": "markdown",
      "metadata": {
        "id": "EAhsvhram4x-"
      },
      "source": [
        "r. assegnare il proprio nome e cognome ad una stringa e visualizzare i 5 caratteri centrali"
      ]
    },
    {
      "cell_type": "code",
      "metadata": {
        "colab": {
          "base_uri": "https://localhost:8080/"
        },
        "id": "A782kbmkmz6p",
        "outputId": "d6debfac-d32a-49bc-a400-43b8b44dc80d"
      },
      "source": [
        "s=\"Nahim Ahmed\"\n",
        "print(\"I 5 caratteri centrali sono\", s[3:8])"
      ],
      "execution_count": 3,
      "outputs": [
        {
          "output_type": "stream",
          "name": "stdout",
          "text": [
            "I 5 caratteri centrali sono im Ah\n"
          ]
        }
      ]
    },
    {
      "cell_type": "markdown",
      "metadata": {
        "id": "C6YuL23R5H_B"
      },
      "source": [
        "s. assegnare il proprio nome e cognome ad una stringa e sostituire le vocali con una X\n"
      ]
    },
    {
      "cell_type": "code",
      "metadata": {
        "id": "p2bmL5bY5Iog"
      },
      "source": [
        ""
      ],
      "execution_count": null,
      "outputs": []
    }
  ]
}